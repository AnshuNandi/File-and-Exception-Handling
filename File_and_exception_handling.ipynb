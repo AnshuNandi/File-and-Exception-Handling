{
  "nbformat": 4,
  "nbformat_minor": 0,
  "metadata": {
    "colab": {
      "provenance": []
    },
    "kernelspec": {
      "name": "python3",
      "display_name": "Python 3"
    },
    "language_info": {
      "name": "python"
    }
  },
  "cells": [
    {
      "cell_type": "markdown",
      "source": [
        "# Files, exception handling, logging and memory management Questions"
      ],
      "metadata": {
        "id": "JRcHIJl3sXGC"
      }
    },
    {
      "cell_type": "markdown",
      "source": [
        "1. What is the difference between interpreted and compiled languages?\n",
        "\n",
        "Answer:\n",
        "The main difference lies in how the code is executed:\n",
        "\n",
        "- Compiled Languages (e.g., C, C++, Java*):\n",
        "\n",
        "  - The source code is translated into machine code (binary) by a compiler before execution.\n",
        "\n",
        "  - The resulting executable is run directly by the system.\n",
        "\n",
        "  - Faster execution because translation happens only once.\n",
        "\n",
        "  - Errors are caught at compile time.\n",
        "\n",
        "- Interpreted Languages (e.g., Python, JavaScript, Ruby):\n",
        "\n",
        "  - Code is executed line by line by an interpreter at runtime.\n",
        "\n",
        "  - Slower than compiled languages due to real-time translation.\n",
        "\n",
        "  - Easier to debug and test because execution stops at the error line.\n",
        "\n",
        " Python is primarily interpreted, but internally it compiles to bytecode (.pyc) which is then executed by the Python Virtual Machine (PVM).\n",
        "\n",
        "2. What is exception handling in Python?\n",
        "\n",
        "Answer:\n",
        "Exception handling is a mechanism in Python that allows you to detect and manage errors gracefully during program execution. Instead of the program crashing when an error occurs, Python lets you handle it using:\n",
        "\n",
        "- try → Block of code that may raise an exception\n",
        "\n",
        "- except → Handles the exception gracefully\n",
        "\n",
        "- else (optional) → Runs if no exception occurs\n",
        "\n",
        "- finally (optional) → Runs regardless of exceptions\n",
        "\n",
        "It prevents abrupt termination and makes your code more reliable and user-friendly.\n",
        "\n",
        "3. What is the purpose of the finally block in exception handling?\n",
        "\n",
        "Answer:\n",
        "The finally block is used to define code that must run no matter what happens—whether an exception occurs or not.\n",
        "\n",
        "Common uses:\n",
        "\n",
        "- Closing files\n",
        "\n",
        "- Releasing resources (like database connections)\n",
        "\n",
        "- Cleaning up memory\n",
        "\n",
        "- Printing final status messages\n",
        "\n",
        "Structure example:"
      ],
      "metadata": {
        "id": "99cpaEzhs_n4"
      }
    },
    {
      "cell_type": "code",
      "execution_count": 1,
      "metadata": {
        "colab": {
          "base_uri": "https://localhost:8080/"
        },
        "id": "r9OdX5ExsIkp",
        "outputId": "7e2a7879-4050-45f7-d5c2-ca0c9ee2400f"
      },
      "outputs": [
        {
          "output_type": "stream",
          "name": "stdout",
          "text": [
            "Error occurred.\n",
            "This will always execute.\n"
          ]
        }
      ],
      "source": [
        "try:\n",
        "    x = 10 / 0\n",
        "except ZeroDivisionError:\n",
        "    print(\"Error occurred.\")\n",
        "finally:\n",
        "    print(\"This will always execute.\")\n"
      ]
    },
    {
      "cell_type": "markdown",
      "source": [
        "Even if the exception isn't handled, the finally block still runs."
      ],
      "metadata": {
        "id": "ZefBG40D0fa0"
      }
    },
    {
      "cell_type": "markdown",
      "source": [
        "4. What is logging in Python?\n",
        "\n",
        "Answer:\n",
        "Logging in Python refers to recording messages about the execution of a program, such as:\n",
        "\n",
        "- Errors\n",
        "\n",
        "- Warnings\n",
        "\n",
        "- Debug details\n",
        "\n",
        "- Informational messages\n",
        "\n",
        "Instead of using print(), Python’s logging module provides:\n",
        "\n",
        "- Different severity levels (DEBUG, INFO, WARNING, ERROR, CRITICAL)\n",
        "\n",
        "- Ability to log to files, console, or external systems\n",
        "\n",
        "- Timestamps and formatting\n",
        "\n",
        "- Easier debugging and tracking\n",
        "\n",
        "Example:"
      ],
      "metadata": {
        "id": "jtECpO000jJO"
      }
    },
    {
      "cell_type": "code",
      "source": [
        "import logging\n",
        "logging.warning(\"This is a warning\")\n"
      ],
      "metadata": {
        "colab": {
          "base_uri": "https://localhost:8080/"
        },
        "id": "j5Mzsd9_0z7o",
        "outputId": "3532856e-306e-4de8-b402-8e955169f728"
      },
      "execution_count": 2,
      "outputs": [
        {
          "output_type": "stream",
          "name": "stderr",
          "text": [
            "WARNING:root:This is a warning\n"
          ]
        }
      ]
    },
    {
      "cell_type": "markdown",
      "source": [
        "5. What is the significance of the del method in Python?\n",
        "\n",
        "Answer:\n",
        "`__del__()` is a destructor method that is automatically called when an object is about to be destroyed (i.e., when it is garbage collected).\n",
        "\n",
        "Purpose:\n",
        "\n",
        "- To release resources like files, memory, or network connections\n",
        "\n",
        "Example:"
      ],
      "metadata": {
        "id": "4zJqTJdk05e4"
      }
    },
    {
      "cell_type": "code",
      "source": [
        "class Demo:\n",
        "    def __del__(self):\n",
        "        print(\"Object is being destroyed\")\n"
      ],
      "metadata": {
        "id": "VF3rOyvP1E2P"
      },
      "execution_count": 3,
      "outputs": []
    },
    {
      "cell_type": "markdown",
      "source": [
        "However, relying on __del__ is discouraged because garbage collection timing is not always predictable."
      ],
      "metadata": {
        "id": "tRYB5sYG1GNR"
      }
    },
    {
      "cell_type": "markdown",
      "source": [
        "6. What is the difference between import and from ... import in Python?\n",
        "\n",
        "Answer:\n",
        "\n",
        "- import module\n",
        "  - We access functions/variables using the module name.\n",
        "\n",
        "  - Prevents name conflicts."
      ],
      "metadata": {
        "id": "5bd11C4v1JrW"
      }
    },
    {
      "cell_type": "code",
      "source": [
        "import math\n",
        "print(math.sqrt(16))"
      ],
      "metadata": {
        "colab": {
          "base_uri": "https://localhost:8080/"
        },
        "id": "Hh7em4ov1OK8",
        "outputId": "0368239e-6499-433e-b078-3bb3db857430"
      },
      "execution_count": 4,
      "outputs": [
        {
          "output_type": "stream",
          "name": "stdout",
          "text": [
            "4.0\n"
          ]
        }
      ]
    },
    {
      "cell_type": "markdown",
      "source": [
        "- from module import name\n",
        "\n",
        "  - We import specific items directly.\n",
        "\n",
        "  - Cleaner but may cause conflicts if names overlap.\n",
        "\n"
      ],
      "metadata": {
        "id": "NH2FPgY01QnO"
      }
    },
    {
      "cell_type": "code",
      "source": [
        "from math import sqrt\n",
        "print(sqrt(16))"
      ],
      "metadata": {
        "colab": {
          "base_uri": "https://localhost:8080/"
        },
        "id": "iDSlQmVu3Avr",
        "outputId": "fc680faf-8bf0-4cae-9133-3b1c51bec759"
      },
      "execution_count": 5,
      "outputs": [
        {
          "output_type": "stream",
          "name": "stdout",
          "text": [
            "4.0\n"
          ]
        }
      ]
    },
    {
      "cell_type": "markdown",
      "source": [
        "- from module import * imports everything but is not recommended due to namespace pollution."
      ],
      "metadata": {
        "id": "YwVhLyb71ikg"
      }
    },
    {
      "cell_type": "markdown",
      "source": [
        "7. How can you handle multiple exceptions in Python?\n",
        "\n",
        "Answer:\n",
        "We can handle multiple exceptions in three ways:\n",
        "\n",
        "- Multiple except blocks:"
      ],
      "metadata": {
        "id": "dJ3JkoJu3X4n"
      }
    },
    {
      "cell_type": "code",
      "source": [
        "try:\n",
        "    x = int(\"abc\")\n",
        "except ValueError:\n",
        "    print(\"Value error\")\n",
        "except TypeError:\n",
        "    print(\"Type error\")"
      ],
      "metadata": {
        "colab": {
          "base_uri": "https://localhost:8080/"
        },
        "id": "qcdyz3q73zAo",
        "outputId": "184b014a-b318-4872-e2cf-0ea52b1eca51"
      },
      "execution_count": 6,
      "outputs": [
        {
          "output_type": "stream",
          "name": "stdout",
          "text": [
            "Value error\n"
          ]
        }
      ]
    },
    {
      "cell_type": "markdown",
      "source": [
        "- Tuple in one except block:"
      ],
      "metadata": {
        "id": "1YP_JE8a31xn"
      }
    },
    {
      "cell_type": "code",
      "source": [
        "try:\n",
        "    x = 10 / int(\"abc\")\n",
        "except (ZeroDivisionError, ValueError):\n",
        "    print(\"Handled multiple exceptions\")"
      ],
      "metadata": {
        "colab": {
          "base_uri": "https://localhost:8080/"
        },
        "id": "wV5mx1c439gk",
        "outputId": "38140caf-b3a4-4cab-fd9d-6e7b981ce1cd"
      },
      "execution_count": 7,
      "outputs": [
        {
          "output_type": "stream",
          "name": "stdout",
          "text": [
            "Handled multiple exceptions\n"
          ]
        }
      ]
    },
    {
      "cell_type": "markdown",
      "source": [
        "- Generic exception (last fallback):"
      ],
      "metadata": {
        "id": "HvuHj7Ro4Agk"
      }
    },
    {
      "cell_type": "code",
      "source": [
        "try:\n",
        "    x = 10 / int(\"abc\")\n",
        "except Exception as e:\n",
        "    print(\"Error:\", e)"
      ],
      "metadata": {
        "colab": {
          "base_uri": "https://localhost:8080/"
        },
        "id": "fZfEnR8A4Ick",
        "outputId": "f3d9b76b-30d1-4dd3-c96e-6eeb211c8202"
      },
      "execution_count": 9,
      "outputs": [
        {
          "output_type": "stream",
          "name": "stdout",
          "text": [
            "Error: invalid literal for int() with base 10: 'abc'\n"
          ]
        }
      ]
    },
    {
      "cell_type": "markdown",
      "source": [
        "8. What is the purpose of the with statement when handling files in Python?\n",
        "\n",
        "Answer:\n",
        "The with statement is used to automatically manage resources, especially files. It ensures files are closed properly after use, even if exceptions occur.\n",
        "\n",
        "Example:"
      ],
      "metadata": {
        "id": "bRLMqiEO4gSK"
      }
    },
    {
      "cell_type": "code",
      "source": [
        "with open(\"data.txt\", \"w\") as file:\n",
        "    file.write(\"Hello, world!\")\n"
      ],
      "metadata": {
        "id": "qTQIlm424kXn"
      },
      "execution_count": 54,
      "outputs": []
    },
    {
      "cell_type": "markdown",
      "source": [
        "Benefits:\n",
        "\n",
        "- No need to call file.close() manually\n",
        "\n",
        "- Prevents file corruption and memory leaks\n",
        "\n",
        "- Cleaner and safer code"
      ],
      "metadata": {
        "id": "e0I9b7SF41q0"
      }
    },
    {
      "cell_type": "markdown",
      "source": [
        "9. What is the difference between multithreading and multiprocessing?\n",
        "\n",
        "Answer:\n",
        "Both are used to achieve parallelism, but they differ in how they work:\n",
        "\n",
        "Multithreading:\n",
        "\n",
        "- Uses multiple threads within the same process\n",
        "\n",
        "- Threads share the same memory space\n",
        "\n",
        "- Lightweight and faster to start\n",
        "\n",
        "- Suitable for I/O-bound tasks (e.g., file handling, web requests)\n",
        "\n",
        "- Limited by Python's GIL (Global Interpreter Lock) — only one thread runs Python code at a time\n",
        "\n",
        "Example use: Downloading files, reading/writing files simultaneously\n",
        "\n",
        "Multiprocessing:\n",
        "\n",
        "- Uses multiple independent processes\n",
        "\n",
        "- Each has its own memory space\n",
        "\n",
        "- Heavier and slower to start\n",
        "\n",
        "- Best for CPU-bound tasks (e.g., computation, data processing)\n",
        "\n",
        "- Bypasses the GIL, offering true parallelism\n",
        "\n",
        "Example use: Image processing, mathematical computation\n",
        "\n",
        "10. What are the advantages of using logging in a program?\n",
        "\n",
        "Answer:\n",
        "Logging provides several benefits over print statements:\n",
        "\n",
        "- Tracks program execution flow\n",
        "- Helps diagnose bugs easily\n",
        "- Can log errors, warnings, and info separately\n",
        "- Output can be saved to files instead of console\n",
        "- Adds timestamps and severity levels\n",
        "- Works well in large applications and production environments\n",
        "- Custom formatting and handlers supported\n",
        "- Makes debugging easier after deployment\n",
        "\n",
        "Example:"
      ],
      "metadata": {
        "id": "9cim32vv47UB"
      }
    },
    {
      "cell_type": "code",
      "source": [
        "import logging\n",
        "logging.error(\"Something went wrong\")"
      ],
      "metadata": {
        "colab": {
          "base_uri": "https://localhost:8080/"
        },
        "id": "-LD_F1xB5xWp",
        "outputId": "e2da09a1-d81e-4de8-a60d-3becb197e112"
      },
      "execution_count": 12,
      "outputs": [
        {
          "output_type": "stream",
          "name": "stderr",
          "text": [
            "ERROR:root:Something went wrong\n"
          ]
        }
      ]
    },
    {
      "cell_type": "markdown",
      "source": [
        "11. What is memory management in Python?\n",
        "\n",
        "Answer:\n",
        "Memory management in Python refers to how Python allocates, tracks, and frees memory used by objects during execution.\n",
        "\n",
        "Key components:\n",
        "\n",
        "- Private heap space: All objects and data structures are stored here\n",
        "\n",
        "- Memory manager: Controls allocation and deallocation\n",
        "\n",
        "- Garbage collector: Removes unused objects\n",
        "\n",
        "- Reference counting: Tracks how many references point to an object\n",
        "\n",
        "Python automatically handles most memory-related tasks, making development easier.\n",
        "\n",
        "12. What are the basic steps involved in exception handling in Python?\n",
        "\n",
        "Answer:\n",
        "The typical exception handling workflow involves:\n",
        "\n",
        "1. try block: Contains code that might raise an error\n",
        "\n",
        "2. except block(s): Catches and handles specific or general exceptions\n",
        "\n",
        "3. else block (optional): Runs if no exception occurs\n",
        "\n",
        "4. finally block (optional): Always runs, regardless of errors (for cleanup)\n",
        "\n",
        "Example:"
      ],
      "metadata": {
        "id": "_tPpv2Fu5zzU"
      }
    },
    {
      "cell_type": "code",
      "source": [
        "try:\n",
        "    x = 10 / 2\n",
        "except ZeroDivisionError:\n",
        "    print(\"Division error\")\n",
        "else:\n",
        "    print(\"Success\")\n",
        "finally:\n",
        "    print(\"Done\")"
      ],
      "metadata": {
        "colab": {
          "base_uri": "https://localhost:8080/"
        },
        "id": "DuSnas7h6UwL",
        "outputId": "940bf45b-ce20-446e-c317-c9253371f5a2"
      },
      "execution_count": 13,
      "outputs": [
        {
          "output_type": "stream",
          "name": "stdout",
          "text": [
            "Success\n",
            "Done\n"
          ]
        }
      ]
    },
    {
      "cell_type": "markdown",
      "source": [
        "13. Why is memory management important in Python?\n",
        "\n",
        "Answer:\n",
        "Proper memory management ensures:\n",
        "\n",
        "- Efficient use of available RAM\n",
        "- Avoids memory leaks\n",
        "- Improves program speed\n",
        "- Prevents program crashes\n",
        "- Helps handle large datasets\n",
        "- Supports long-running applications\n",
        "\n",
        "Even though Python automates memory management, understanding it helps write optimized code.\n",
        "\n",
        "14. What is the role of try and except in exception handling?\n",
        "\n",
        "Answer:\n",
        "- The try block contains code that could raise an exception.\n",
        "- The except block defines how to handle the exception if it occurs.\n",
        "\n",
        "They ensure that the program does not crash when an error happens.\n",
        "\n",
        "Example:"
      ],
      "metadata": {
        "id": "c8fT5lHG6efZ"
      }
    },
    {
      "cell_type": "code",
      "source": [
        "try:\n",
        "    a = 5 / 0\n",
        "except ZeroDivisionError:\n",
        "    print(\"Cannot divide by zero\")"
      ],
      "metadata": {
        "colab": {
          "base_uri": "https://localhost:8080/"
        },
        "id": "aLnJRjr39-h0",
        "outputId": "83eb309e-0456-41fd-8399-cbe4f597bd97"
      },
      "execution_count": 15,
      "outputs": [
        {
          "output_type": "stream",
          "name": "stdout",
          "text": [
            "Cannot divide by zero\n"
          ]
        }
      ]
    },
    {
      "cell_type": "markdown",
      "source": [
        "15. How does Python's garbage collection system work?\n",
        "\n",
        "Answer:\n",
        "Python uses two main techniques:\n",
        "\n",
        "1. Reference Counting\n",
        "\n",
        "- Each object keeps track of how many references point to it\n",
        "\n",
        "- When the count reaches zero, the memory is freed\n",
        "\n",
        "2. Garbage Collector (GC)\n",
        "\n",
        "- Handles cyclic references (e.g., two objects referring to each other)\n",
        "\n",
        "- Uses a generational approach: younger objects are checked more often\n",
        "\n",
        "Example of circular reference:"
      ],
      "metadata": {
        "id": "U260-z8O-CpW"
      }
    },
    {
      "cell_type": "code",
      "source": [
        "class A:\n",
        "    pass\n",
        "\n",
        "a1 = A()\n",
        "a2 = A()\n",
        "a1.ref = a2\n",
        "a2.ref = a1"
      ],
      "metadata": {
        "id": "FkoZ4Tcd-fOy"
      },
      "execution_count": 16,
      "outputs": []
    },
    {
      "cell_type": "markdown",
      "source": [
        "GC cleans up such unused objects automatically."
      ],
      "metadata": {
        "id": "DxMRuQ77_E1h"
      }
    },
    {
      "cell_type": "markdown",
      "source": [
        "16. What is the purpose of the else block in exception handling?\n",
        "\n",
        "Answer:\n",
        "The else block runs only if no exception occurs in the try block. It is useful for executing code when everything works normally.\n",
        "\n",
        "Example:"
      ],
      "metadata": {
        "id": "dM3ehMmA-lYE"
      }
    },
    {
      "cell_type": "code",
      "source": [
        "try:\n",
        "    x = int(\"10\")\n",
        "except ValueError:\n",
        "    print(\"Conversion failed\")\n",
        "else:\n",
        "    print(\"Conversion succeeded\")  # Runs only if no error"
      ],
      "metadata": {
        "colab": {
          "base_uri": "https://localhost:8080/"
        },
        "id": "5ZJ6ZIAB-peu",
        "outputId": "59d8816d-a40f-4a9d-b5f7-f83f369de65f"
      },
      "execution_count": 17,
      "outputs": [
        {
          "output_type": "stream",
          "name": "stdout",
          "text": [
            "Conversion succeeded\n"
          ]
        }
      ]
    },
    {
      "cell_type": "markdown",
      "source": [
        "It keeps normal logic separate from error-handling logic."
      ],
      "metadata": {
        "id": "OYotaZxu-6qF"
      }
    },
    {
      "cell_type": "markdown",
      "source": [
        "17. What are the common logging levels in Python?\n",
        "\n",
        "Answer:\n",
        "Python defines 5 standard logging levels (from lowest to highest severity):\n",
        "\n",
        "1. DEBUG → Detailed info for debugging\n",
        "\n",
        "2. INFO → Confirmation that things are working\n",
        "\n",
        "3. WARNING → Something unexpected but not fatal\n",
        "\n",
        "4. ERROR → A serious issue that needs attention\n",
        "\n",
        "5. CRITICAL → Severe error; program may crash\n",
        "\n",
        "Example:"
      ],
      "metadata": {
        "id": "oiqz6i20-tTc"
      }
    },
    {
      "cell_type": "code",
      "source": [
        "import logging\n",
        "logging.warning(\"Low disk space\")"
      ],
      "metadata": {
        "colab": {
          "base_uri": "https://localhost:8080/"
        },
        "id": "aXgM3gWy-2nb",
        "outputId": "f4f63707-8a05-4766-c715-cd6e7748972a"
      },
      "execution_count": 18,
      "outputs": [
        {
          "output_type": "stream",
          "name": "stderr",
          "text": [
            "WARNING:root:Low disk space\n"
          ]
        }
      ]
    },
    {
      "cell_type": "markdown",
      "source": [
        "18. What is the difference between os.fork() and multiprocessing in Python?\n",
        "\n",
        "Answer:\n",
        "Both are used to create new processes, but they differ in usage, portability, and safety:\n",
        "\n",
        "- os.fork():\n",
        "\n",
        "  - Available only on Unix/Linux/Mac (not Windows)\n",
        "\n",
        "  - Creates a child process by duplicating the parent\n",
        "\n",
        "  - Works at the operating system level\n",
        "\n",
        "  - Requires manual management of processes\n",
        "\n",
        "  - Less safe and not beginner-friendly\n",
        "\n",
        "Example:"
      ],
      "metadata": {
        "id": "VnQZWR-3_PzT"
      }
    },
    {
      "cell_type": "code",
      "source": [
        "import os\n",
        "pid = os.fork()\n",
        "if pid == 0:\n",
        "    print(\"Child process\")\n",
        "else:\n",
        "    print(\"Parent process\")"
      ],
      "metadata": {
        "colab": {
          "base_uri": "https://localhost:8080/"
        },
        "id": "d9CgkEbT_fQ7",
        "outputId": "f3df7432-ae29-4617-9201-05e4dadbd2e8"
      },
      "execution_count": 19,
      "outputs": [
        {
          "output_type": "stream",
          "name": "stdout",
          "text": [
            "Parent process\n",
            "Child process\n"
          ]
        },
        {
          "output_type": "stream",
          "name": "stderr",
          "text": [
            "/tmp/ipython-input-3414944947.py:2: DeprecationWarning: This process (pid=358) is multi-threaded, use of fork() may lead to deadlocks in the child.\n",
            "  pid = os.fork()\n"
          ]
        }
      ]
    },
    {
      "cell_type": "markdown",
      "source": [
        "- multiprocessing module:\n",
        "\n",
        "  - Cross-platform (works on Windows, macOS, Linux)\n",
        "\n",
        "  - Higher-level and easier to use\n",
        "\n",
        "  - Handles process creation, communication, and synchronization\n",
        "\n",
        "  - Avoids GIL limitations because each process has its own interpreter\n",
        "\n",
        "Example:"
      ],
      "metadata": {
        "id": "tskMQxXS_tHE"
      }
    },
    {
      "cell_type": "code",
      "source": [
        "from multiprocessing import Process\n",
        "\n",
        "def run():\n",
        "    print(\"Child process running\")\n",
        "\n",
        "p = Process(target=run)\n",
        "p.start()\n",
        "p.join()"
      ],
      "metadata": {
        "colab": {
          "base_uri": "https://localhost:8080/"
        },
        "id": "eui6c638_57b",
        "outputId": "981b3701-b89c-465f-bb53-1d802bb206f3"
      },
      "execution_count": 20,
      "outputs": [
        {
          "output_type": "stream",
          "name": "stdout",
          "text": [
            "Child process running\n"
          ]
        }
      ]
    },
    {
      "cell_type": "markdown",
      "source": [
        "In most real-world applications, multiprocessing is preferred over os.fork()."
      ],
      "metadata": {
        "id": "8eSqFo-N_8iw"
      }
    },
    {
      "cell_type": "markdown",
      "source": [
        "19. What is the importance of closing a file in Python?\n",
        "\n",
        "Answer:\n",
        "Closing a file is important because it:\n",
        "\n",
        "- Releases system resources (file handles)\n",
        "- Prevents memory leaks\n",
        "- Ensures data is properly written to the file\n",
        "- Avoids file corruption\n",
        "- Allows other programs to access the file\n",
        "- Improves performance and reliability\n",
        "\n",
        "We can close a file manually:"
      ],
      "metadata": {
        "id": "P25TTnziAAMh"
      }
    },
    {
      "cell_type": "code",
      "source": [
        "f = open(\"data.txt\", \"r\")\n",
        "# operations\n",
        "f.close()"
      ],
      "metadata": {
        "id": "dskDpNoTAQnY"
      },
      "execution_count": 22,
      "outputs": []
    },
    {
      "cell_type": "markdown",
      "source": [
        "Or use a with statement (preferable):\n"
      ],
      "metadata": {
        "id": "MJtLaHksAkTg"
      }
    },
    {
      "cell_type": "code",
      "source": [
        "with open(\"data.txt\", \"r\") as f:\n",
        "    data = f.read()"
      ],
      "metadata": {
        "id": "rtRLvJ53Ah61"
      },
      "execution_count": 55,
      "outputs": []
    },
    {
      "cell_type": "markdown",
      "source": [
        "This automatically closes the file."
      ],
      "metadata": {
        "id": "p367NS7AA1OO"
      }
    },
    {
      "cell_type": "markdown",
      "source": [
        "20. What is the difference between file.read() and file.readline() in Python?\n",
        "\n",
        "Answer:\n",
        "Both methods are used to read file contents, but they work differently:\n",
        "\n",
        "- file.read()\n",
        "\n",
        "  - Reads the entire file (or a specified number of bytes)\n",
        "\n",
        "  - Returns a single string\n",
        "\n",
        "Example:"
      ],
      "metadata": {
        "id": "8WNFeG-eA2mL"
      }
    },
    {
      "cell_type": "code",
      "source": [
        "with open(\"data.txt\", \"r\") as f:\n",
        "  print(f.read())\n",
        "  f.seek(0)\n",
        "  print(f.read(5))"
      ],
      "metadata": {
        "colab": {
          "base_uri": "https://localhost:8080/"
        },
        "id": "1fACx7rUBAbc",
        "outputId": "ce425cc0-27fe-475d-dcf0-4e7075dce1ea"
      },
      "execution_count": 57,
      "outputs": [
        {
          "output_type": "stream",
          "name": "stdout",
          "text": [
            "Hello, world!\n",
            "Hello\n"
          ]
        }
      ]
    },
    {
      "cell_type": "markdown",
      "source": [
        "- file.readline()\n",
        "\n",
        "  - Reads one line at a time\n",
        "\n",
        "  - Returns a string ending with newline character (exception: the last line may not contain newline character).\n",
        "\n",
        "Example:"
      ],
      "metadata": {
        "id": "O63jq4g5CaHx"
      }
    },
    {
      "cell_type": "code",
      "source": [
        "with open(\"data.txt\", \"a\") as f:\n",
        "  f.write(\"\\nNew line\")\n",
        "with open(\"data.txt\", \"r\") as f:\n",
        "  print(repr(f.readline()))\n",
        "  print(repr(f.readline()))"
      ],
      "metadata": {
        "colab": {
          "base_uri": "https://localhost:8080/"
        },
        "id": "gf7nyXAZCgsP",
        "outputId": "0b95e88b-8735-46a3-dc8f-d58cbb75a56c"
      },
      "execution_count": 58,
      "outputs": [
        {
          "output_type": "stream",
          "name": "stdout",
          "text": [
            "'Hello, world!\\n'\n",
            "'New line'\n"
          ]
        }
      ]
    },
    {
      "cell_type": "markdown",
      "source": [
        "- read() is good for small files\n",
        "- readline() is better when reading line-by-line"
      ],
      "metadata": {
        "id": "ImzCegnaG2CT"
      }
    },
    {
      "cell_type": "markdown",
      "source": [
        "21. What is the logging module in Python used for?\n",
        "\n",
        "Answer:\n",
        "The logging module is used to record program events, errors, warnings, and debug information, instead of using print().\n",
        "\n",
        "Features:\n",
        "- Logs to files, console, or remote servers\n",
        "- Supports log levels (DEBUG, INFO, WARNING, ERROR, CRITICAL)\n",
        "- Allows formatting with timestamps\n",
        "- Helps track and debug issues in real projects\n",
        "- Can rotate log files automatically\n",
        "\n",
        "Example:"
      ],
      "metadata": {
        "id": "gNb07lTKG53K"
      }
    },
    {
      "cell_type": "code",
      "source": [
        "import logging\n",
        "logging.basicConfig(filename=\"app.log\", level=logging.ERROR)\n",
        "logging.error(\"An error occurred\")"
      ],
      "metadata": {
        "colab": {
          "base_uri": "https://localhost:8080/"
        },
        "id": "VeMCqWrQGt5b",
        "outputId": "19a47dff-8fe7-49a5-a1f3-5776e192bf39"
      },
      "execution_count": 59,
      "outputs": [
        {
          "output_type": "stream",
          "name": "stderr",
          "text": [
            "ERROR:root:An error occurred\n"
          ]
        }
      ]
    },
    {
      "cell_type": "markdown",
      "source": [
        "22. What is the os module in Python used for in file handling?\n",
        "\n",
        "Answer:\n",
        "The os module provides functions to interact with the operating system, especially for file and directory operations.\n",
        "\n",
        "Common uses:\n",
        "- Create, delete, rename files\n",
        "- Check if a file or directory exists\n",
        "- Get file paths\n",
        "- List contents of a directory\n",
        "- Get file size\n",
        "- Work with environment variables\n",
        "\n",
        "Examples:"
      ],
      "metadata": {
        "id": "YD98c9P5HHgW"
      }
    },
    {
      "cell_type": "code",
      "source": [
        "import os\n",
        "os.mkdir(\"new_dir\")              # create a directory\n",
        "os.rename(\"data.txt\", \"new.txt\")  # rename a file\n",
        "os.listdir()                      # list files in current directory\n",
        "os.remove(\"new.txt\")              # delete a file\n",
        "os.rmdir(\"new_dir\")              # remove an empty directory\n",
        "os.path.exists(\"new.txt\")        # check file existence\n"
      ],
      "metadata": {
        "colab": {
          "base_uri": "https://localhost:8080/"
        },
        "id": "MfOyPihwHNPC",
        "outputId": "1ae4dbd8-1d91-48a0-a6b5-75f66857cb49"
      },
      "execution_count": 68,
      "outputs": [
        {
          "output_type": "execute_result",
          "data": {
            "text/plain": [
              "False"
            ]
          },
          "metadata": {},
          "execution_count": 68
        }
      ]
    },
    {
      "cell_type": "markdown",
      "source": [
        "23. What are the challenges associated with memory management in Python?\n",
        "\n",
        "Answer:\n",
        "Even though Python automates memory handling, some challenges still exist:\n",
        "\n",
        "- Memory leaks due to circular references\n",
        "- Large objects staying in memory unnecessarily\n",
        "- Inefficient use of data structures\n",
        "- Slow garbage collection for big programs\n",
        "- Variables not deleted when no longer needed\n",
        "- High memory usage in long-running apps\n",
        "- External libraries not freeing memory\n",
        "\n",
        "To handle this better:\n",
        "- Use del to delete objects\n",
        "- Avoid unnecessary references\n",
        "- Use memory profilers\n",
        "- Prefer generators over lists when possible\n",
        "\n",
        "24. How do you raise an exception manually in Python?\n",
        "\n",
        "Answer:\n",
        "We can manually generate an exception using the raise keyword.\n",
        "\n",
        "Example 1:"
      ],
      "metadata": {
        "id": "NOiSAH7QJKsf"
      }
    },
    {
      "cell_type": "code",
      "source": [
        "try:\n",
        "  raise ValueError(\"Invalid input\")\n",
        "except ValueError as e:\n",
        "  print(e)"
      ],
      "metadata": {
        "colab": {
          "base_uri": "https://localhost:8080/"
        },
        "id": "_fiQKtVxJm-V",
        "outputId": "20a9dd4a-2fff-4b0b-f8ea-5fb3605d9c1d"
      },
      "execution_count": 70,
      "outputs": [
        {
          "output_type": "stream",
          "name": "stdout",
          "text": [
            "Invalid input\n"
          ]
        }
      ]
    },
    {
      "cell_type": "code",
      "source": [
        "#Example 2:\n",
        "try:\n",
        "  age = -5\n",
        "  if age < 0:\n",
        "    raise Exception(\"Age cannot be negative\")\n",
        "except Exception as e:\n",
        "  print(e)"
      ],
      "metadata": {
        "colab": {
          "base_uri": "https://localhost:8080/"
        },
        "id": "0JFQboyCJ5jx",
        "outputId": "61a33608-465c-40aa-fc44-a04d7b62e4fc"
      },
      "execution_count": 71,
      "outputs": [
        {
          "output_type": "stream",
          "name": "stdout",
          "text": [
            "Age cannot be negative\n"
          ]
        }
      ]
    },
    {
      "cell_type": "markdown",
      "source": [
        "We can also raise custom exceptions:"
      ],
      "metadata": {
        "id": "PgBMpVKgHauB"
      }
    },
    {
      "cell_type": "code",
      "source": [
        "class MyError(Exception):\n",
        "    pass\n",
        "\n",
        "try:\n",
        "  raise MyError(\"Custom error occurred\")\n",
        "except Exception as e:\n",
        "  print(e)"
      ],
      "metadata": {
        "colab": {
          "base_uri": "https://localhost:8080/"
        },
        "id": "U0r6e011KOrZ",
        "outputId": "36e87714-a573-4ee9-99e7-6f58fc75b356"
      },
      "execution_count": 73,
      "outputs": [
        {
          "output_type": "stream",
          "name": "stdout",
          "text": [
            "Custom error occurred\n"
          ]
        }
      ]
    },
    {
      "cell_type": "markdown",
      "source": [
        "This is useful for validation and debugging.\n",
        "\n"
      ],
      "metadata": {
        "id": "Zj4d-51XKxbJ"
      }
    },
    {
      "cell_type": "markdown",
      "source": [
        "25. Why is it important to use multithreading in certain applications?\n",
        "\n",
        "Answer:\n",
        "Multithreading is useful in scenarios where a program needs to perform multiple tasks concurrently, especially tasks that wait for external responses.\n",
        "\n",
        "Benefits:\n",
        "- Faster execution for I/O-bound tasks\n",
        "- Better user experience (non-blocking)\n",
        "- Efficient use of CPU downtime\n",
        "- Allows simultaneous work (e.g., downloading multiple files)\n",
        "- Useful in GUI apps, servers, and web scrapers\n",
        "\n",
        "Example use cases:\n",
        "\n",
        "- File reading/writing\n",
        "\n",
        "- Sending multiple network requests\n",
        "\n",
        "- Handling multiple client connections\n",
        "\n",
        "- Background tasks in applications\n",
        "\n",
        "For CPU-bound tasks, multiprocessing is better due to the GIL."
      ],
      "metadata": {
        "id": "jNdcWuboKj2-"
      }
    },
    {
      "cell_type": "markdown",
      "source": [
        "# Practical Questions"
      ],
      "metadata": {
        "id": "J-uya9iIKzQY"
      }
    },
    {
      "cell_type": "code",
      "source": [
        "# Question 1: How can you open a file for writing in Python and write a string to it?\n",
        "file_path = \"example.txt\"\n",
        "with open(file_path, \"w\") as file:\n",
        "    file.write(\"Hello, this is a sample string written to the file.\")\n",
        "print(\"Q1: String written to file successfully.\")\n"
      ],
      "metadata": {
        "colab": {
          "base_uri": "https://localhost:8080/"
        },
        "id": "5m12S6PwK9Qy",
        "outputId": "8b5932bb-95a0-466b-9fb8-b65e39bc6919"
      },
      "execution_count": 74,
      "outputs": [
        {
          "output_type": "stream",
          "name": "stdout",
          "text": [
            "Q1: String written to file successfully.\n"
          ]
        }
      ]
    },
    {
      "cell_type": "code",
      "source": [
        "# Question 2: Write a Python program to read the contents of a file and print each line\n",
        "with open(file_path, \"r\") as file:\n",
        "    print(\"Q2: Reading file line by line:\")\n",
        "    for line in file:\n",
        "        print(line.strip())"
      ],
      "metadata": {
        "colab": {
          "base_uri": "https://localhost:8080/"
        },
        "id": "w4ejU45jLBif",
        "outputId": "0a4a692f-aa11-4eb2-ea98-563f41aaf8f7"
      },
      "execution_count": 75,
      "outputs": [
        {
          "output_type": "stream",
          "name": "stdout",
          "text": [
            "Q2: Reading file line by line:\n",
            "Hello, this is a sample string written to the file.\n"
          ]
        }
      ]
    },
    {
      "cell_type": "code",
      "source": [
        "# Question 3: How would you handle a case where the file doesn't exist while trying to open it for reading?\n",
        "non_existing_file = \"non_existing_file.txt\"\n",
        "try:\n",
        "    with open(non_existing_file, \"r\") as file:\n",
        "        print(file.read())\n",
        "except FileNotFoundError:\n",
        "    print(f\"Q3: Error - The file '{non_existing_file}' does not exist.\")"
      ],
      "metadata": {
        "colab": {
          "base_uri": "https://localhost:8080/"
        },
        "id": "gC21HVErLFCM",
        "outputId": "f3ae6b63-02c9-41c4-ffbb-3dc582ee1913"
      },
      "execution_count": 76,
      "outputs": [
        {
          "output_type": "stream",
          "name": "stdout",
          "text": [
            "Q3: Error - The file 'non_existing_file.txt' does not exist.\n"
          ]
        }
      ]
    },
    {
      "cell_type": "code",
      "source": [
        "# Question 4: Write a Python script that reads from one file and writes its content to another file\n",
        "destination_file = \"destination.txt\"\n",
        "with open(file_path, \"r\") as src:\n",
        "    content = src.read()\n",
        "with open(destination_file, \"w\") as dest:\n",
        "    dest.write(content)\n",
        "print(\"Q4: Content copied successfully.\")\n"
      ],
      "metadata": {
        "colab": {
          "base_uri": "https://localhost:8080/"
        },
        "id": "RdN_4IeWLJlp",
        "outputId": "82ce24f2-260f-4ca7-cc7f-b79b29be4265"
      },
      "execution_count": 77,
      "outputs": [
        {
          "output_type": "stream",
          "name": "stdout",
          "text": [
            "Q4: Content copied successfully.\n"
          ]
        }
      ]
    },
    {
      "cell_type": "code",
      "source": [
        "# Question 5: How would you catch and handle division by zero error in Python\n",
        "try:\n",
        "    result = 10 / 0\n",
        "except ZeroDivisionError:\n",
        "    print(\"Q5: Error - Division by zero is not allowed.\")"
      ],
      "metadata": {
        "colab": {
          "base_uri": "https://localhost:8080/"
        },
        "id": "bOQN0ilzLJcI",
        "outputId": "5247faf1-dbeb-4c3b-c695-55da3d941b89"
      },
      "execution_count": 78,
      "outputs": [
        {
          "output_type": "stream",
          "name": "stdout",
          "text": [
            "Q5: Error - Division by zero is not allowed.\n"
          ]
        }
      ]
    },
    {
      "cell_type": "code",
      "source": [
        "# Question 6: Write a Python program that logs an error message to a log file when a division by zero exception occurs\n",
        "import logging\n",
        "logging.basicConfig(filename=\"error_log.log\", level=logging.ERROR)\n",
        "try:\n",
        "    x = 10 / 0\n",
        "except ZeroDivisionError as e:\n",
        "    logging.error(f\"Division by zero occurred: {e}\")\n",
        "    print(\"Q6: Error logged to file.\")"
      ],
      "metadata": {
        "colab": {
          "base_uri": "https://localhost:8080/"
        },
        "id": "y8EJLaGvLS3q",
        "outputId": "c2e5a6c5-6ae7-4010-96e1-887cb1c60afe"
      },
      "execution_count": 79,
      "outputs": [
        {
          "output_type": "stream",
          "name": "stderr",
          "text": [
            "ERROR:root:Division by zero occurred: division by zero\n"
          ]
        },
        {
          "output_type": "stream",
          "name": "stdout",
          "text": [
            "Q6: Error logged to file.\n"
          ]
        }
      ]
    },
    {
      "cell_type": "code",
      "source": [
        "# Question 7: How do you log information at different levels (INFO, ERROR, WARNING) in Python using the logging module\n",
        "logging.info(\"Q7: This is an info message.\")\n",
        "logging.warning(\"Q7: This is a warning message.\")\n",
        "logging.error(\"Q7: This is an error message.\")\n"
      ],
      "metadata": {
        "colab": {
          "base_uri": "https://localhost:8080/"
        },
        "id": "PyytFBCKLWHA",
        "outputId": "26a28789-fdf7-4182-8b8a-3860e5f91ec3"
      },
      "execution_count": 80,
      "outputs": [
        {
          "output_type": "stream",
          "name": "stderr",
          "text": [
            "WARNING:root:Q7: This is a warning message.\n",
            "ERROR:root:Q7: This is an error message.\n"
          ]
        }
      ]
    },
    {
      "cell_type": "code",
      "source": [
        "# Question 8: Write a program to handle a file opening error using exception handling\n",
        "try:\n",
        "    with open(non_existing_file, \"r\") as file:\n",
        "        print(file.read())\n",
        "except FileNotFoundError:\n",
        "    print(f\"Q8: Error - Could not open the file '{non_existing_file}'.\")\n"
      ],
      "metadata": {
        "colab": {
          "base_uri": "https://localhost:8080/"
        },
        "id": "q_YQXy1vLaP1",
        "outputId": "1b762f8c-3dc7-4da2-883c-5f13aa5aa66f"
      },
      "execution_count": 81,
      "outputs": [
        {
          "output_type": "stream",
          "name": "stdout",
          "text": [
            "Q8: Error - Could not open the file 'non_existing_file.txt'.\n"
          ]
        }
      ]
    },
    {
      "cell_type": "code",
      "source": [
        "# Question 9: How can you read a file line by line and store its content in a list in Python\n",
        "lines_list = []\n",
        "with open(file_path, \"r\") as file:\n",
        "    lines_list = file.readlines()\n",
        "print(\"Q9: File content stored in list:\")\n",
        "print(lines_list)"
      ],
      "metadata": {
        "colab": {
          "base_uri": "https://localhost:8080/"
        },
        "id": "z9niv8s3LbYr",
        "outputId": "3f60fca9-a28b-4144-8663-bfbbbfe2ff7b"
      },
      "execution_count": 82,
      "outputs": [
        {
          "output_type": "stream",
          "name": "stdout",
          "text": [
            "Q9: File content stored in list:\n",
            "['Hello, this is a sample string written to the file.']\n"
          ]
        }
      ]
    },
    {
      "cell_type": "code",
      "source": [
        "# Question 10: How can you append data to an existing file in Python\n",
        "with open(file_path, \"a\") as file:\n",
        "    file.write(\"\\nThis line is appended to the file.\")\n",
        "print(\"Q10: Data appended successfully.\")\n"
      ],
      "metadata": {
        "colab": {
          "base_uri": "https://localhost:8080/"
        },
        "id": "SRI0frmqLfSg",
        "outputId": "a45028a9-a4a0-4b7c-ffe1-69aff73b1d64"
      },
      "execution_count": 83,
      "outputs": [
        {
          "output_type": "stream",
          "name": "stdout",
          "text": [
            "Q10: Data appended successfully.\n"
          ]
        }
      ]
    },
    {
      "cell_type": "code",
      "source": [
        "# Question 11: Write a Python program that uses a try-except block to handle an error when attempting to access a dictionary key that doesn't exist\n",
        "data = {\"name\": \"John\", \"age\": 25}\n",
        "try:\n",
        "    print(data[\"address\"])\n",
        "except KeyError:\n",
        "    print(\"Q11: Error - The key 'address' does not exist in the dictionary.\")"
      ],
      "metadata": {
        "colab": {
          "base_uri": "https://localhost:8080/"
        },
        "id": "TmNbtPVZLgxw",
        "outputId": "b987623a-b448-46dd-ac9b-99057a1f4f40"
      },
      "execution_count": 84,
      "outputs": [
        {
          "output_type": "stream",
          "name": "stdout",
          "text": [
            "Q11: Error - The key 'address' does not exist in the dictionary.\n"
          ]
        }
      ]
    },
    {
      "cell_type": "code",
      "source": [
        "# Question 12: Write a program that demonstrates using multiple except blocks to handle different types of exceptions\n",
        "try:\n",
        "    x = int(\"abc\")  # ValueError\n",
        "    y = 10 / 0      # ZeroDivisionError\n",
        "except ValueError:\n",
        "    print(\"Q12: Error - Invalid value conversion to integer.\")\n",
        "except ZeroDivisionError:\n",
        "    print(\"Q12: Error - Division by zero is not allowed.\")\n",
        "except Exception as e:\n",
        "    print(f\"Q12: An unexpected error occurred: {e}\")"
      ],
      "metadata": {
        "colab": {
          "base_uri": "https://localhost:8080/"
        },
        "id": "TCQX5SEgLlim",
        "outputId": "a74c4125-be81-43c8-86bb-6c3b5e3dcc6f"
      },
      "execution_count": 85,
      "outputs": [
        {
          "output_type": "stream",
          "name": "stdout",
          "text": [
            "Q12: Error - Invalid value conversion to integer.\n"
          ]
        }
      ]
    },
    {
      "cell_type": "code",
      "source": [
        "# Question 13: How would you check if a file exists before attempting to read it in Python\n",
        "import os\n",
        "if os.path.exists(file_path):\n",
        "    with open(file_path, \"r\") as file:\n",
        "        print(\"Q13: File exists. Content:\")\n",
        "        print(file.read())\n",
        "else:\n",
        "    print(f\"Q13: File '{file_path}' does not exist.\")"
      ],
      "metadata": {
        "colab": {
          "base_uri": "https://localhost:8080/"
        },
        "id": "Z2VGshn2Lm1p",
        "outputId": "3884ef01-f36e-4b32-9175-69077be02990"
      },
      "execution_count": 86,
      "outputs": [
        {
          "output_type": "stream",
          "name": "stdout",
          "text": [
            "Q13: File exists. Content:\n",
            "Hello, this is a sample string written to the file.\n",
            "This line is appended to the file.\n"
          ]
        }
      ]
    },
    {
      "cell_type": "code",
      "source": [
        "# Question 14: Write a program that uses the logging module to log both informational and error messages\n",
        "logging.info(\"Q14: Program started successfully.\")\n",
        "try:\n",
        "    num = 10 / 0\n",
        "except ZeroDivisionError as e:\n",
        "    logging.error(f\"Q14: An error occurred: {e}\")\n",
        "print(\"Q14: Logging completed.\")"
      ],
      "metadata": {
        "colab": {
          "base_uri": "https://localhost:8080/"
        },
        "id": "Unee8bafLrLF",
        "outputId": "4ddd52df-23b7-4de9-befe-36ff827e9cf1"
      },
      "execution_count": 87,
      "outputs": [
        {
          "output_type": "stream",
          "name": "stderr",
          "text": [
            "ERROR:root:Q14: An error occurred: division by zero\n"
          ]
        },
        {
          "output_type": "stream",
          "name": "stdout",
          "text": [
            "Q14: Logging completed.\n"
          ]
        }
      ]
    },
    {
      "cell_type": "code",
      "source": [
        "# Question 15: Write a Python program that prints the content of a file and handles the case when the file is empty\n",
        "with open(file_path, \"r\") as file:\n",
        "    content = file.read()\n",
        "if content.strip() == \"\":\n",
        "    print(\"Q15: The file is empty.\")\n",
        "else:\n",
        "    print(\"Q15: File content:\")\n",
        "    print(content)"
      ],
      "metadata": {
        "colab": {
          "base_uri": "https://localhost:8080/"
        },
        "id": "xbzllYVnLtgE",
        "outputId": "62574001-79f1-4122-d2ce-3e58b2edf98f"
      },
      "execution_count": 88,
      "outputs": [
        {
          "output_type": "stream",
          "name": "stdout",
          "text": [
            "Q15: File content:\n",
            "Hello, this is a sample string written to the file.\n",
            "This line is appended to the file.\n"
          ]
        }
      ]
    },
    {
      "cell_type": "code",
      "source": [
        "!pip install -q memory_profiler"
      ],
      "metadata": {
        "id": "CFYaYihDL0qC"
      },
      "execution_count": 89,
      "outputs": []
    },
    {
      "cell_type": "code",
      "source": [
        "%load_ext memory_profiler"
      ],
      "metadata": {
        "id": "0MDPMBEtM11C"
      },
      "execution_count": 91,
      "outputs": []
    },
    {
      "cell_type": "code",
      "source": [
        "# Question 16: Demonstrate how to use memory profiling to check the memory usage of a small program\n",
        "\n",
        "def small_program():\n",
        "    numbers = [i for i in range(10000)]\n",
        "    total = sum(numbers)\n",
        "    return total\n",
        "\n",
        "%memit result = small_program()\n",
        "print(\"Sum =\", result)"
      ],
      "metadata": {
        "colab": {
          "base_uri": "https://localhost:8080/"
        },
        "id": "yPBIG8oyLvIs",
        "outputId": "a6817ad7-861a-4984-b0a0-0b9e67e9ee61"
      },
      "execution_count": 92,
      "outputs": [
        {
          "output_type": "stream",
          "name": "stdout",
          "text": [
            "peak memory: 122.72 MiB, increment: 0.03 MiB\n",
            "Sum = 49995000\n"
          ]
        }
      ]
    },
    {
      "cell_type": "code",
      "source": [
        "# Question 17: Write a Python program to create and write a list of numbers to a file, one number per line\n",
        "numbers = [1, 2, 3, 4, 5]\n",
        "numbers_file = \"numbers.txt\"\n",
        "with open(numbers_file, \"w\") as file:\n",
        "    for num in numbers:\n",
        "        file.write(str(num) + \"\\n\")\n",
        "print(\"Q17: Numbers written to file successfully.\")\n"
      ],
      "metadata": {
        "colab": {
          "base_uri": "https://localhost:8080/"
        },
        "id": "SxajqRW7NQFQ",
        "outputId": "5da6e474-cbdd-4d80-8c78-5310b971b0bf"
      },
      "execution_count": 93,
      "outputs": [
        {
          "output_type": "stream",
          "name": "stdout",
          "text": [
            "Q17: Numbers written to file successfully.\n"
          ]
        }
      ]
    },
    {
      "cell_type": "code",
      "source": [
        "# Question 18: How would you implement a basic logging setup that logs to a file with rotation after 1MB\n",
        "from logging.handlers import RotatingFileHandler\n",
        "\n",
        "logger = logging.getLogger(\"my_logger\")\n",
        "logger.setLevel(logging.INFO)\n",
        "handler = RotatingFileHandler(\"rotated_log.log\", maxBytes=1_000_000, backupCount=3)\n",
        "logger.addHandler(handler)\n",
        "logger.info(\"Q18: This is an info log entry.\")\n",
        "logger.error(\"Q18: This is an error log entry.\")\n"
      ],
      "metadata": {
        "colab": {
          "base_uri": "https://localhost:8080/"
        },
        "id": "32F4QBDTNRRX",
        "outputId": "a1e3f018-5e85-4dbf-8837-037e0206b8ad"
      },
      "execution_count": 94,
      "outputs": [
        {
          "output_type": "stream",
          "name": "stderr",
          "text": [
            "INFO:my_logger:Q18: This is an info log entry.\n",
            "ERROR:my_logger:Q18: This is an error log entry.\n"
          ]
        }
      ]
    },
    {
      "cell_type": "code",
      "source": [
        "#Question 19: Write a program that handles both IndexError and KeyError using a try-except block\n",
        "data_list = [1, 2, 3]\n",
        "data_dict = {\"a\": 10, \"b\": 20}\n",
        "try:\n",
        "    print(data_list[5])\n",
        "    print(data_dict[\"z\"])\n",
        "except IndexError:\n",
        "    print(\"Q19: Error - List index is out of range.\")\n",
        "except KeyError:\n",
        "    print(\"Q19: Error - The specified key does not exist.\")"
      ],
      "metadata": {
        "colab": {
          "base_uri": "https://localhost:8080/"
        },
        "id": "EmsvVGUyNWeO",
        "outputId": "a3add91d-bb92-4110-f052-02b8de25a9f0"
      },
      "execution_count": 95,
      "outputs": [
        {
          "output_type": "stream",
          "name": "stdout",
          "text": [
            "Q19: Error - List index is out of range.\n"
          ]
        }
      ]
    },
    {
      "cell_type": "code",
      "source": [
        "# Question 20: How would you open a file and read its contents using a context manager in Python\n",
        "with open(file_path, \"r\") as file:\n",
        "    print(\"Q20: Reading using context manager:\")\n",
        "    print(file.read())\n"
      ],
      "metadata": {
        "colab": {
          "base_uri": "https://localhost:8080/"
        },
        "id": "A6PIJwoiNbIR",
        "outputId": "cb5b9bc2-83ca-460a-f798-848e49fb4340"
      },
      "execution_count": 96,
      "outputs": [
        {
          "output_type": "stream",
          "name": "stdout",
          "text": [
            "Q20: Reading using context manager:\n",
            "Hello, this is a sample string written to the file.\n",
            "This line is appended to the file.\n"
          ]
        }
      ]
    },
    {
      "cell_type": "code",
      "source": [
        "# Question 21: Write a Python program that reads a file and prints the number of occurrences of a specific word\n",
        "word_to_count = \"Python\"\n",
        "with open(file_path, \"r\") as file:\n",
        "    content = file.read()\n",
        "count = content.lower().split().count(word_to_count.lower())\n",
        "print(f\"Q21: The word '{word_to_count}' occurs {count} times in the file.\")\n"
      ],
      "metadata": {
        "colab": {
          "base_uri": "https://localhost:8080/"
        },
        "id": "QIKmG4PSNfZj",
        "outputId": "ba07babc-f1b8-4b3f-8a1d-cf2e78207db7"
      },
      "execution_count": 97,
      "outputs": [
        {
          "output_type": "stream",
          "name": "stdout",
          "text": [
            "Q21: The word 'Python' occurs 0 times in the file.\n"
          ]
        }
      ]
    },
    {
      "cell_type": "code",
      "source": [
        "# Question 22: How can you check if a file is empty before attempting to read its contents\n",
        "if os.path.exists(file_path) and os.path.getsize(file_path) > 0:\n",
        "    with open(file_path, \"r\") as file:\n",
        "        print(\"Q22: File is not empty. Content:\")\n",
        "        print(file.read())\n",
        "else:\n",
        "    print(f\"Q22: The file '{file_path}' is empty or does not exist.\")\n"
      ],
      "metadata": {
        "colab": {
          "base_uri": "https://localhost:8080/"
        },
        "id": "HS0fjl_6Nh0d",
        "outputId": "495a25bd-7181-40ac-c8b8-27dcd4d93e82"
      },
      "execution_count": 98,
      "outputs": [
        {
          "output_type": "stream",
          "name": "stdout",
          "text": [
            "Q22: File is not empty. Content:\n",
            "Hello, this is a sample string written to the file.\n",
            "This line is appended to the file.\n"
          ]
        }
      ]
    },
    {
      "cell_type": "code",
      "source": [
        "# Question 23: Write a Python program that writes to a log file when an error occurs during file handling\n",
        "try:\n",
        "    with open(\"non_existing_file.txt\", \"r\") as file:\n",
        "        print(file.read())\n",
        "except Exception as e:\n",
        "    logging.error(f\"Q23: Error during file handling: {e}\")\n",
        "    print(\"Q23: An error occurred. Details logged to file.\")"
      ],
      "metadata": {
        "id": "KYUMQDfiNi7b",
        "outputId": "006a48e2-e9ee-4fe0-a677-60007fda24ef",
        "colab": {
          "base_uri": "https://localhost:8080/"
        }
      },
      "execution_count": 99,
      "outputs": [
        {
          "output_type": "stream",
          "name": "stderr",
          "text": [
            "ERROR:root:Q23: Error during file handling: [Errno 2] No such file or directory: 'non_existing_file.txt'\n"
          ]
        },
        {
          "output_type": "stream",
          "name": "stdout",
          "text": [
            "Q23: An error occurred. Details logged to file.\n"
          ]
        }
      ]
    }
  ]
}